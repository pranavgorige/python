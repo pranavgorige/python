import numpy as np
import pandas as pd
pd.read_csv(r"C:\users\hp\OneDrive\Pictures\pranav pics\Crosstab_Sales.csv")



